{
 "cells": [
  {
   "cell_type": "markdown",
   "metadata": {},
   "source": [
    "### Импорт библиотек"
   ]
  },
  {
   "cell_type": "code",
   "execution_count": 2,
   "metadata": {},
   "outputs": [],
   "source": [
    "from sympy import symbols, Eq, solve\n",
    "import matplotlib.pyplot as plt"
   ]
  },
  {
   "cell_type": "markdown",
   "metadata": {},
   "source": [
    "### Задание 1.\n",
    "Найти предельные вероятности для системы S при λ01 = 1, λ02 = 2, λ10 = 2, λ13 = 2, λ20 = 3, λ23 = 1, λ31 = 3, λ32 = 2.\\\n",
    "Система уравнений имеет вид:\n",
    "\n",
    "(λ01 + λ02)p0 = λ10p1 + λ20p2,\\\n",
    "(λ10 + λ13)p1 = λ01p0 + λ31p3,\\\n",
    "(λ20 + λ23)p2 = λ02p0 + λ32p3,\\\n",
    "(λ31 + λ32)p3 = λ13p1 + λ23p2."
   ]
  },
  {
   "cell_type": "code",
   "execution_count": 5,
   "metadata": {},
   "outputs": [],
   "source": [
    "# Значения интенсивности\n",
    "values = [1, 2, 2, 2, 3, 1, 3, 2]"
   ]
  },
  {
   "cell_type": "code",
   "execution_count": 24,
   "metadata": {},
   "outputs": [],
   "source": [
    "p0, p1, p2, p3 = symbols('p0 p1 p2 p3')\n",
    "\n",
    "l01 = values[0]\n",
    "l02 = values[1]\n",
    "l10 = values[2]\n",
    "l13 = values[3]\n",
    "l20 = values[4]\n",
    "l23 = values[5]\n",
    "l31 = values[6]\n",
    "l32 = values[7]\n",
    "\n",
    "eq1 = Eq((l01+l02)*p0, l10*p1 + l20*p2)\n",
    "eq2 = Eq((l10+l13)*p1, l01*p0 + l31*p3)\n",
    "eq3 = Eq((l20+l23)*p2, l02*p0 + l32*p3)\n",
    "eq4 = Eq(p0 + p1 + p2 + p3, 1)\n",
    "\n",
    "solution = solve([eq1, eq2, eq3, eq4], (p0, p1, p2, p3))\n",
    "# Преобразуем дроби в десятичные значения (там до этого они выводились как {p0: 2/5, p1: 1/5, p2: 4/15, p3: 2/15}, не комильфо)\n",
    "p0 = float(solution[p0])\n",
    "p1 = float(solution[p1])\n",
    "p2 = float(solution[p2])\n",
    "p3 = float(solution[p3])"
   ]
  },
  {
   "cell_type": "code",
   "execution_count": 25,
   "metadata": {},
   "outputs": [
    {
     "name": "stdout",
     "output_type": "stream",
     "text": [
      "p0 = 0.40\n",
      "p1 = 0.20\n",
      "p2 = 0.27\n",
      "p3 = 0.13\n"
     ]
    }
   ],
   "source": [
    "print(f'p0 = {p0:.2f}\\np1 = {p1:.2f}\\np2 = {p2:.2f}\\np3 = {p3:.2f}')"
   ]
  },
  {
   "cell_type": "markdown",
   "metadata": {},
   "source": [
    "### Задание 2.\n",
    "\n",
    "Найти средний чистый доход от эксплуатации в стационарном режиме системы S в условиях предыдущего примера. Если известно, что\n",
    "в единицу времени исправная работа первого и второго узлов приносит доход соответственно в 10 и 6 ден. ед., а их ремонт требует\n",
    "затрат соответственно в 4 и 2 ден. ед. Оценить экономическую эффективность имеющейся возможности уменьшения вдвое среднего ремонта\n",
    "каждого из двух узлов, если при этом придется вдвое увеличить затраты на ремонт каждого узла (в единицу времени)."
   ]
  },
  {
   "cell_type": "code",
   "execution_count": 58,
   "metadata": {},
   "outputs": [],
   "source": [
    "#Доход первого и второго узла в денежных единицах\n",
    "first_node_income = 10\n",
    "second_node_income = 6\n",
    "\n",
    "#Затраты на ремонт узлов в денежных единицах\n",
    "first_node_repairing = 4\n",
    "second_node_repairing = 2\n",
    "\n",
    "#Вероятности того, что работают первый или второй узлы p0 - работа всех узлов\n",
    "first_node = p0 + p2\n",
    "second_node = p0 + p1\n",
    "\n",
    "#Вероятности того, что узлы на ремонте\n",
    "first_node_in_repair = p1 + p3\n",
    "second_node_in_repair = p2 + p3\n",
    "\n",
    "# Д = 8.18 ден. ед.\n",
    "D = (first_node * first_node_income) + (second_node * second_node_income) \\\n",
    "        - (first_node_in_repair * first_node_repairing) - (second_node_in_repair * second_node_repairing)\n",
    "\n",
    "# Интенсивности потоков событий равны (λ10 = 4, λ20 = 6, λ31 = 6, λ32 = 4)\n",
    "# Остальные остаются прежними\n",
    "l01 = values[0]\n",
    "l02 = values[1]\n",
    "l10 = values[2] * 2\n",
    "l13 = values[3]\n",
    "l20 = values[4] * 2\n",
    "l23 = values[5]\n",
    "l31 = values[6] * 2\n",
    "l32 = values[7] * 2\n",
    "\n",
    "\n",
    "p0, p1, p2, p3 = symbols('p0 p1 p2 p3')\n",
    "\n",
    "eq1 = Eq((l01 + l02)*p0, (l10)*p1 + (l20)*p2)\n",
    "eq2 = Eq((l10 + l13)*p1, (l01)*p0 + (l31)*p3)\n",
    "eq3 = Eq((l20 + l23)*p2, (l02)*p0 + (l32)*p3)\n",
    "eq4 = Eq(p0 + p1 + p2 + p3, 1)\n",
    "\n",
    "# Тут решается система уравнений\n",
    "solution = solve([eq1, eq2, eq3, eq4], (p0, p1, p2, p3))\n",
    "\n",
    "\n",
    "p0 = float(solution[p0])\n",
    "p1 = float(solution[p1])\n",
    "p2 = float(solution[p2])\n",
    "p3 = float(solution[p3])\n",
    "\n",
    "first_node_2 = p0 + p2\n",
    "second_node_2 = p0 + p1\n",
    "first_node_in_repair_2 = p1 + p3\n",
    "second_node_in_repair_2 = p2 + p3\n",
    "\n",
    "first_node_repairing = first_node_repairing * 2\n",
    "second_node_repairing = second_node_repairing * 2\n",
    "\n",
    "D1 = (first_node_2 * first_node_income) + (second_node_2 * second_node_income)\\\n",
    "      - (first_node_in_repair_2 * first_node_repairing) - (second_node_in_repair_2 * second_node_repairing)"
   ]
  },
  {
   "cell_type": "code",
   "execution_count": 61,
   "metadata": {},
   "outputs": [
    {
     "name": "stdout",
     "output_type": "stream",
     "text": [
      "Доход при начальных условиях             11.20 ден.ед\n",
      "Доходность при условии ускорения ремонта 9.90 ден.ед\n",
      "\n"
     ]
    }
   ],
   "source": [
    "print(f'Доход при начальных условиях {D:>17.2f} ден.ед')\n",
    "print(f'Доходность при условии ускорения ремонта {D1:>2.2f} ден.ед')\n",
    "\n",
    "print()"
   ]
  }
 ],
 "metadata": {
  "kernelspec": {
   "display_name": "mirea_prac_env",
   "language": "python",
   "name": "python3"
  },
  "language_info": {
   "codemirror_mode": {
    "name": "ipython",
    "version": 3
   },
   "file_extension": ".py",
   "mimetype": "text/x-python",
   "name": "python",
   "nbconvert_exporter": "python",
   "pygments_lexer": "ipython3",
   "version": "3.12.3"
  }
 },
 "nbformat": 4,
 "nbformat_minor": 2
}
